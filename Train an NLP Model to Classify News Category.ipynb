{
 "cells": [
  {
   "cell_type": "markdown",
   "metadata": {},
   "source": [
    "# Train an NLP Model to Classify News Category\n",
    "\n",
    "News Category Dataset is Taken From Kaggle (link below, download the .csv from the website):\n",
    "https://www.kaggle.com/datasets/1f9e801c614a34d5c4ca204dc8d324e661f9575fe7749177a291efc833aa445f?resource=download\n",
    "(if you got this notebook from my GitHub Repo, the .csv is already in the folder)\n",
    "\n",
    "In this notebook, we will focus on training a news category classifier with the data above. We will not go too much into the details of text pre-processing, optimizing and fine-tuning the model hyperparameters as this GitHub Repo's main aim is to demonstrate how to eventually create a Web App from an NLP model to predict text. (You can imagine the Web App will have a large text field form for the user to enter some text before the prediction is given). \n",
    "\n",
    "More emphasis will hence be given to how to store the model into a file and then retrieve it for usage in a Web App (separate from this notebook), how to write the Web App and how to deploy it onto the cloud for other people to use!"
   ]
  },
  {
   "cell_type": "code",
   "execution_count": 1,
   "metadata": {},
   "outputs": [
    {
     "name": "stderr",
     "output_type": "stream",
     "text": [
      "[nltk_data] Downloading package stopwords to\n",
      "[nltk_data]     C:\\Users\\user\\AppData\\Roaming\\nltk_data...\n",
      "[nltk_data]   Package stopwords is already up-to-date!\n",
      "[nltk_data] Downloading package wordnet to\n",
      "[nltk_data]     C:\\Users\\user\\AppData\\Roaming\\nltk_data...\n",
      "[nltk_data]   Package wordnet is already up-to-date!\n"
     ]
    }
   ],
   "source": [
    "# relevant imports, remember to do a pip install if you do not already have the libraries installed\n",
    "import pandas as pd\n",
    "import matplotlib.pyplot as plt\n",
    "from collections import Counter # to plot word count graph for EDA later\n",
    "import nltk # for NLP tasks\n",
    "nltk.download('stopwords')\n",
    "nltk.download('wordnet')\n",
    "from nltk.corpus import stopwords # for pre-processing of text to remove common words\n",
    "stopwords = stopwords.words('english')\n",
    "from nltk.stem import WordNetLemmatizer # for pre-processing of text (lemmatize text, i.e. converting a word to its base form)\n",
    "from sklearn.feature_extraction.text import TfidfVectorizer # for pre-processing of text\n",
    "from sklearn.model_selection import train_test_split \n",
    "from sklearn.svm import LinearSVC # chosen model to train\n",
    "from sklearn import metrics # for measuring accuracy\n",
    "import pickle # to store model "
   ]
  },
  {
   "cell_type": "markdown",
   "metadata": {},
   "source": [
    "## Exploratory Data Analysis and Pre-processing\n",
    "\n",
    "First we load in the data and do some EDA and basic pre-processing of text."
   ]
  },
  {
   "cell_type": "code",
   "execution_count": 2,
   "metadata": {},
   "outputs": [
    {
     "data": {
      "text/html": [
       "<div>\n",
       "<style scoped>\n",
       "    .dataframe tbody tr th:only-of-type {\n",
       "        vertical-align: middle;\n",
       "    }\n",
       "\n",
       "    .dataframe tbody tr th {\n",
       "        vertical-align: top;\n",
       "    }\n",
       "\n",
       "    .dataframe thead th {\n",
       "        text-align: right;\n",
       "    }\n",
       "</style>\n",
       "<table border=\"1\" class=\"dataframe\">\n",
       "  <thead>\n",
       "    <tr style=\"text-align: right;\">\n",
       "      <th></th>\n",
       "      <th>category</th>\n",
       "      <th>headline</th>\n",
       "      <th>links</th>\n",
       "      <th>short_description</th>\n",
       "      <th>keywords</th>\n",
       "    </tr>\n",
       "  </thead>\n",
       "  <tbody>\n",
       "    <tr>\n",
       "      <th>0</th>\n",
       "      <td>WELLNESS</td>\n",
       "      <td>143 Miles in 35 Days: Lessons Learned</td>\n",
       "      <td>https://www.huffingtonpost.com/entry/running-l...</td>\n",
       "      <td>Resting is part of training. I've confirmed wh...</td>\n",
       "      <td>running-lessons</td>\n",
       "    </tr>\n",
       "    <tr>\n",
       "      <th>1</th>\n",
       "      <td>WELLNESS</td>\n",
       "      <td>Talking to Yourself: Crazy or Crazy Helpful?</td>\n",
       "      <td>https://www.huffingtonpost.com/entry/talking-t...</td>\n",
       "      <td>Think of talking to yourself as a tool to coac...</td>\n",
       "      <td>talking-to-yourself-crazy</td>\n",
       "    </tr>\n",
       "    <tr>\n",
       "      <th>2</th>\n",
       "      <td>WELLNESS</td>\n",
       "      <td>Crenezumab: Trial Will Gauge Whether Alzheimer...</td>\n",
       "      <td>https://www.huffingtonpost.com/entry/crenezuma...</td>\n",
       "      <td>The clock is ticking for the United States to ...</td>\n",
       "      <td>crenezumab-alzheimers-disease-drug</td>\n",
       "    </tr>\n",
       "    <tr>\n",
       "      <th>3</th>\n",
       "      <td>WELLNESS</td>\n",
       "      <td>Oh, What a Difference She Made</td>\n",
       "      <td>https://www.huffingtonpost.com/entry/meaningfu...</td>\n",
       "      <td>If you want to be busy, keep trying to be perf...</td>\n",
       "      <td>meaningful-life</td>\n",
       "    </tr>\n",
       "    <tr>\n",
       "      <th>4</th>\n",
       "      <td>WELLNESS</td>\n",
       "      <td>Green Superfoods</td>\n",
       "      <td>https://www.huffingtonpost.com/entry/green-sup...</td>\n",
       "      <td>First, the bad news: Soda bread, corned beef a...</td>\n",
       "      <td>green-superfoods</td>\n",
       "    </tr>\n",
       "  </tbody>\n",
       "</table>\n",
       "</div>"
      ],
      "text/plain": [
       "   category                                           headline  \\\n",
       "0  WELLNESS              143 Miles in 35 Days: Lessons Learned   \n",
       "1  WELLNESS       Talking to Yourself: Crazy or Crazy Helpful?   \n",
       "2  WELLNESS  Crenezumab: Trial Will Gauge Whether Alzheimer...   \n",
       "3  WELLNESS                     Oh, What a Difference She Made   \n",
       "4  WELLNESS                                   Green Superfoods   \n",
       "\n",
       "                                               links  \\\n",
       "0  https://www.huffingtonpost.com/entry/running-l...   \n",
       "1  https://www.huffingtonpost.com/entry/talking-t...   \n",
       "2  https://www.huffingtonpost.com/entry/crenezuma...   \n",
       "3  https://www.huffingtonpost.com/entry/meaningfu...   \n",
       "4  https://www.huffingtonpost.com/entry/green-sup...   \n",
       "\n",
       "                                   short_description  \\\n",
       "0  Resting is part of training. I've confirmed wh...   \n",
       "1  Think of talking to yourself as a tool to coac...   \n",
       "2  The clock is ticking for the United States to ...   \n",
       "3  If you want to be busy, keep trying to be perf...   \n",
       "4  First, the bad news: Soda bread, corned beef a...   \n",
       "\n",
       "                             keywords  \n",
       "0                     running-lessons  \n",
       "1           talking-to-yourself-crazy  \n",
       "2  crenezumab-alzheimers-disease-drug  \n",
       "3                     meaningful-life  \n",
       "4                    green-superfoods  "
      ]
     },
     "execution_count": 2,
     "metadata": {},
     "output_type": "execute_result"
    }
   ],
   "source": [
    "df_raw = pd.read_csv(\"NewsCategorizer.csv\")\n",
    "df_raw.head()"
   ]
  },
  {
   "cell_type": "markdown",
   "metadata": {},
   "source": [
    "To make things simple, we will just use 2 columns, the 'category' of the news as well as its 'short_description'. i.e. We will just be training the model to predict the category of the news from the 'short_description'. Of course, other more complicated implementations can attempt to extract the full text from the website in the 'links' column to train the model. But let's keep things simple."
   ]
  },
  {
   "cell_type": "code",
   "execution_count": 3,
   "metadata": {},
   "outputs": [
    {
     "data": {
      "text/html": [
       "<div>\n",
       "<style scoped>\n",
       "    .dataframe tbody tr th:only-of-type {\n",
       "        vertical-align: middle;\n",
       "    }\n",
       "\n",
       "    .dataframe tbody tr th {\n",
       "        vertical-align: top;\n",
       "    }\n",
       "\n",
       "    .dataframe thead th {\n",
       "        text-align: right;\n",
       "    }\n",
       "</style>\n",
       "<table border=\"1\" class=\"dataframe\">\n",
       "  <thead>\n",
       "    <tr style=\"text-align: right;\">\n",
       "      <th></th>\n",
       "      <th>category</th>\n",
       "      <th>short_description</th>\n",
       "    </tr>\n",
       "  </thead>\n",
       "  <tbody>\n",
       "    <tr>\n",
       "      <th>0</th>\n",
       "      <td>WELLNESS</td>\n",
       "      <td>Resting is part of training. I've confirmed wh...</td>\n",
       "    </tr>\n",
       "    <tr>\n",
       "      <th>1</th>\n",
       "      <td>WELLNESS</td>\n",
       "      <td>Think of talking to yourself as a tool to coac...</td>\n",
       "    </tr>\n",
       "    <tr>\n",
       "      <th>2</th>\n",
       "      <td>WELLNESS</td>\n",
       "      <td>The clock is ticking for the United States to ...</td>\n",
       "    </tr>\n",
       "    <tr>\n",
       "      <th>3</th>\n",
       "      <td>WELLNESS</td>\n",
       "      <td>If you want to be busy, keep trying to be perf...</td>\n",
       "    </tr>\n",
       "    <tr>\n",
       "      <th>4</th>\n",
       "      <td>WELLNESS</td>\n",
       "      <td>First, the bad news: Soda bread, corned beef a...</td>\n",
       "    </tr>\n",
       "  </tbody>\n",
       "</table>\n",
       "</div>"
      ],
      "text/plain": [
       "   category                                  short_description\n",
       "0  WELLNESS  Resting is part of training. I've confirmed wh...\n",
       "1  WELLNESS  Think of talking to yourself as a tool to coac...\n",
       "2  WELLNESS  The clock is ticking for the United States to ...\n",
       "3  WELLNESS  If you want to be busy, keep trying to be perf...\n",
       "4  WELLNESS  First, the bad news: Soda bread, corned beef a..."
      ]
     },
     "execution_count": 3,
     "metadata": {},
     "output_type": "execute_result"
    }
   ],
   "source": [
    "df = df_raw[['category', 'short_description']]\n",
    "df.head()"
   ]
  },
  {
   "cell_type": "markdown",
   "metadata": {},
   "source": [
    "As can be seen below, there are 10 categories and they equally distributed among the whole dataset, nice!"
   ]
  },
  {
   "cell_type": "code",
   "execution_count": 4,
   "metadata": {},
   "outputs": [
    {
     "name": "stdout",
     "output_type": "stream",
     "text": [
      "['WELLNESS' 'POLITICS' 'ENTERTAINMENT' 'TRAVEL' 'STYLE & BEAUTY'\n",
      " 'PARENTING' 'FOOD & DRINK' 'WORLD NEWS' 'BUSINESS' 'SPORTS']\n"
     ]
    },
    {
     "data": {
      "text/plain": [
       "WELLNESS          5000\n",
       "POLITICS          5000\n",
       "ENTERTAINMENT     5000\n",
       "TRAVEL            5000\n",
       "STYLE & BEAUTY    5000\n",
       "PARENTING         5000\n",
       "FOOD & DRINK      5000\n",
       "WORLD NEWS        5000\n",
       "BUSINESS          5000\n",
       "SPORTS            5000\n",
       "Name: category, dtype: int64"
      ]
     },
     "execution_count": 4,
     "metadata": {},
     "output_type": "execute_result"
    }
   ],
   "source": [
    "categories = df['category'].unique()\n",
    "print(categories)\n",
    "df['category'].value_counts()"
   ]
  },
  {
   "cell_type": "markdown",
   "metadata": {},
   "source": [
    "Here we clean the dataset (i.e. the 'short_description' column) by removing stopwords, punctuation, underscores and digits. Stopwords simply means common English words that is not specific to any news category e.g. the, it, he, I, myself. We do not want these words in the dataset."
   ]
  },
  {
   "cell_type": "code",
   "execution_count": 5,
   "metadata": {},
   "outputs": [
    {
     "name": "stderr",
     "output_type": "stream",
     "text": [
      "C:\\Users\\user\\AppData\\Local\\Temp/ipykernel_14476/4002449389.py:2: SettingWithCopyWarning: \n",
      "A value is trying to be set on a copy of a slice from a DataFrame.\n",
      "Try using .loc[row_indexer,col_indexer] = value instead\n",
      "\n",
      "See the caveats in the documentation: https://pandas.pydata.org/pandas-docs/stable/user_guide/indexing.html#returning-a-view-versus-a-copy\n",
      "  df['short_description'] = df['short_description'].str.lower().replace([r'\\|', RE_stopwords], ['',''], regex=True) # remove stopwords\n",
      "C:\\Users\\user\\AppData\\Local\\Temp/ipykernel_14476/4002449389.py:3: FutureWarning: The default value of regex will change from True to False in a future version.\n",
      "  df['short_description'] = df['short_description'].str.replace(r'[^\\w\\s]+', '').replace('_', '') # remove punctuation\n",
      "C:\\Users\\user\\AppData\\Local\\Temp/ipykernel_14476/4002449389.py:3: SettingWithCopyWarning: \n",
      "A value is trying to be set on a copy of a slice from a DataFrame.\n",
      "Try using .loc[row_indexer,col_indexer] = value instead\n",
      "\n",
      "See the caveats in the documentation: https://pandas.pydata.org/pandas-docs/stable/user_guide/indexing.html#returning-a-view-versus-a-copy\n",
      "  df['short_description'] = df['short_description'].str.replace(r'[^\\w\\s]+', '').replace('_', '') # remove punctuation\n",
      "C:\\Users\\user\\AppData\\Local\\Temp/ipykernel_14476/4002449389.py:4: SettingWithCopyWarning: \n",
      "A value is trying to be set on a copy of a slice from a DataFrame.\n",
      "Try using .loc[row_indexer,col_indexer] = value instead\n",
      "\n",
      "See the caveats in the documentation: https://pandas.pydata.org/pandas-docs/stable/user_guide/indexing.html#returning-a-view-versus-a-copy\n",
      "  df['short_description'] = df['short_description'].str.replace('_', '') # remove underscores\n",
      "C:\\Users\\user\\AppData\\Local\\Temp/ipykernel_14476/4002449389.py:5: SettingWithCopyWarning: \n",
      "A value is trying to be set on a copy of a slice from a DataFrame.\n",
      "Try using .loc[row_indexer,col_indexer] = value instead\n",
      "\n",
      "See the caveats in the documentation: https://pandas.pydata.org/pandas-docs/stable/user_guide/indexing.html#returning-a-view-versus-a-copy\n",
      "  df['short_description'] = df['short_description'].str.replace(r\"[0-9]+\", \"\", regex=True)  # remove digits\n",
      "C:\\Users\\user\\AppData\\Local\\Temp/ipykernel_14476/4002449389.py:6: SettingWithCopyWarning: \n",
      "A value is trying to be set on a copy of a slice from a DataFrame.\n",
      "Try using .loc[row_indexer,col_indexer] = value instead\n",
      "\n",
      "See the caveats in the documentation: https://pandas.pydata.org/pandas-docs/stable/user_guide/indexing.html#returning-a-view-versus-a-copy\n",
      "  df['short_description'] = df['short_description'].str.replace(r'\\b[a-zA-Z]\\b', '', regex=True)\n"
     ]
    }
   ],
   "source": [
    "RE_stopwords = r'\\b(?:{})\\b'.format('|'.join(stopwords)) # stopwords variable was defined at the import section earlier\n",
    "df['short_description'] = df['short_description'].str.lower().replace([r'\\|', RE_stopwords], ['',''], regex=True) # remove stopwords\n",
    "df['short_description'] = df['short_description'].str.replace(r'[^\\w\\s]+', '').replace('_', '') # remove punctuation\n",
    "df['short_description'] = df['short_description'].str.replace('_', '') # remove underscores\n",
    "df['short_description'] = df['short_description'].str.replace(r\"[0-9]+\", \"\", regex=True)  # remove digits\n",
    "df['short_description'] = df['short_description'].str.replace(r'\\b[a-zA-Z]\\b', '', regex=True) "
   ]
  },
  {
   "cell_type": "markdown",
   "metadata": {},
   "source": [
    "Next, we tokenize the words and perform text lemmatization, i.e. converting a word to its base form using the NLTK library."
   ]
  },
  {
   "cell_type": "code",
   "execution_count": 6,
   "metadata": {},
   "outputs": [
    {
     "name": "stderr",
     "output_type": "stream",
     "text": [
      "C:\\Users\\user\\AppData\\Local\\Temp/ipykernel_14476/771174075.py:7: SettingWithCopyWarning: \n",
      "A value is trying to be set on a copy of a slice from a DataFrame.\n",
      "Try using .loc[row_indexer,col_indexer] = value instead\n",
      "\n",
      "See the caveats in the documentation: https://pandas.pydata.org/pandas-docs/stable/user_guide/indexing.html#returning-a-view-versus-a-copy\n",
      "  df['short_description'] = df['short_description'].apply(lemmatize_text).str.join(\" \")\n"
     ]
    }
   ],
   "source": [
    "w_tokenizer = nltk.tokenize.WhitespaceTokenizer()\n",
    "lemmatizer = nltk.stem.WordNetLemmatizer()\n",
    "\n",
    "def lemmatize_text(text):\n",
    "    return [lemmatizer.lemmatize(w) for w in w_tokenizer.tokenize(text)]\n",
    "\n",
    "df['short_description'] = df['short_description'].apply(lemmatize_text).str.join(\" \")"
   ]
  },
  {
   "cell_type": "markdown",
   "metadata": {},
   "source": [
    "Let's take a look at some of the text from the 'WELLNESS' and 'TRAVEL' categories to get a feel for the cleaned data. We print out the first few rows. Since we have processed the data to remove stopwords and punctuations etc., the sentences are not going to flow smoothly."
   ]
  },
  {
   "cell_type": "code",
   "execution_count": 7,
   "metadata": {
    "scrolled": false
   },
   "outputs": [
    {
     "data": {
      "text/plain": [
       "array(['resting part training confirmed sort already knew built running streak built hard workout three five day week lot cross training physical therapy foam rolling also confirmed stubborn',\n",
       "       'think talking tool coach challenge narrate experience case treat respect may find enjoy company',\n",
       "       'clock ticking united state find cure team working study dr francisco lopera',\n",
       "       'want busy keep trying perfect want happy focus making difference',\n",
       "       'first bad news soda bread corned beef beer highly nutritious meal make luck irish would'],\n",
       "      dtype=object)"
      ]
     },
     "execution_count": 7,
     "metadata": {},
     "output_type": "execute_result"
    }
   ],
   "source": [
    "df[df['category']=='WELLNESS']['short_description'].values[:5]"
   ]
  },
  {
   "cell_type": "code",
   "execution_count": 8,
   "metadata": {},
   "outputs": [
    {
     "data": {
      "text/plain": [
       "array(['discussion mccandless life either reading book watching film hearing passing information',\n",
       "       'woke condition turn poke head see could travel horizon contrast thick whiteout slight shadow tent could see blizzard flying past u',\n",
       "       'traveler going love one',\n",
       "       'currently live los angeles way new york city two large selffocused metropolitan megacities london london favorite city world far',\n",
       "       'walked across israel bicycled across burma piloted fishing boat laotian mekong driven land rover across america prove point traveling light trekked around world six week luggage bag kind'],\n",
       "      dtype=object)"
      ]
     },
     "execution_count": 8,
     "metadata": {},
     "output_type": "execute_result"
    }
   ],
   "source": [
    "df[df['category']=='TRAVEL']['short_description'].values[:5]"
   ]
  },
  {
   "cell_type": "markdown",
   "metadata": {},
   "source": [
    "## Visualize How the Words are Distributed in Different Categories\n",
    "\n",
    "Here we extract the words from each category, and from all the rows, then we count the number of occurrences of each word using the Counter() function we imported earlier. We then plot out the frequency of the 10 most common words for each category. We see some common words repeated across the categories, ideally it would be also good to add to the stopwords list words like 'one', 'time', 'year', 'like' as they seem to appear across all categories. However, the tfidf word vectorizer that we will be using later to vectorize the words will take care of that."
   ]
  },
  {
   "cell_type": "code",
   "execution_count": 9,
   "metadata": {
    "scrolled": false
   },
   "outputs": [
    {
     "data": {
      "image/png": "[encoded data removed]",
      "text/plain": [
       "<Figure size 432x288 with 1 Axes>"
      ]
     },
     "metadata": {
      "needs_background": "light"
     },
     "output_type": "display_data"
    },
    {
     "data": {
      "image/png": "[encoded data removed]",
      "text/plain": [
       "<Figure size 432x288 with 1 Axes>"
      ]
     },
     "metadata": {
      "needs_background": "light"
     },
     "output_type": "display_data"
    },
    {
     "data": {
      "image/png": "[encoded data removed]",
      "text/plain": [
       "<Figure size 432x288 with 1 Axes>"
      ]
     },
     "metadata": {
      "needs_background": "light"
     },
     "output_type": "display_data"
    },
    {
     "data": {
      "image/png": "[encoded data removed]",
      "text/plain": [
       "<Figure size 432x288 with 1 Axes>"
      ]
     },
     "metadata": {
      "needs_background": "light"
     },
     "output_type": "display_data"
    },
    {
     "data": {
      "image/png": "[encoded data removed]",
      "text/plain": [
       "<Figure size 432x288 with 1 Axes>"
      ]
     },
     "metadata": {
      "needs_background": "light"
     },
     "output_type": "display_data"
    },
    {
     "data": {
      "image/png": "[encoded data removed]",
      "text/plain": [
       "<Figure size 432x288 with 1 Axes>"
      ]
     },
     "metadata": {
      "needs_background": "light"
     },
     "output_type": "display_data"
    },
    {
     "data": {
      "image/png": "[encoded data removed]",
      "text/plain": [
       "<Figure size 432x288 with 1 Axes>"
      ]
     },
     "metadata": {
      "needs_background": "light"
     },
     "output_type": "display_data"
    },
    {
     "data": {
      "image/png": "[encoded data removed]",
      "text/plain": [
       "<Figure size 432x288 with 1 Axes>"
      ]
     },
     "metadata": {
      "needs_background": "light"
     },
     "output_type": "display_data"
    },
    {
     "data": {
      "image/png": "[encoded data removed]",
      "text/plain": [
       "<Figure size 432x288 with 1 Axes>"
      ]
     },
     "metadata": {
      "needs_background": "light"
     },
     "output_type": "display_data"
    },
    {
     "data": {
      "image/png": "[encoded data removed]",
      "text/plain": [
       "<Figure size 432x288 with 1 Axes>"
      ]
     },
     "metadata": {
      "needs_background": "light"
     },
     "output_type": "display_data"
    }
   ],
   "source": [
    "top_N = 10\n",
    "\n",
    "for category in categories:\n",
    "    words = df[df['category']==category]['short_description'].str.cat(sep=' ').split()\n",
    "\n",
    "    # generate DF out of Counter\n",
    "    rslt = pd.DataFrame(Counter(words).most_common(top_N),\n",
    "                        columns=['Word', 'Frequency']).set_index('Word')\n",
    "    # plot\n",
    "    rslt.plot.bar(rot=45, width=0.8)\n",
    "    plt.ylabel('Frequency')\n",
    "    plt.title(category)\n",
    "    plt.show()"
   ]
  },
  {
   "cell_type": "markdown",
   "metadata": {},
   "source": [
    "We have now prepared our text data for training. As usual, the features (text) will be stored in the X variable, while the labels (category) will be stored in y."
   ]
  },
  {
   "cell_type": "code",
   "execution_count": 10,
   "metadata": {},
   "outputs": [
    {
     "name": "stdout",
     "output_type": "stream",
     "text": [
      "0    resting part training confirmed sort already k...\n",
      "1    think talking tool coach challenge narrate exp...\n",
      "2    clock ticking united state find cure team work...\n",
      "3    want busy keep trying perfect want happy focus...\n",
      "4    first bad news soda bread corned beef beer hig...\n",
      "Name: short_description, dtype: object\n",
      "0    WELLNESS\n",
      "1    WELLNESS\n",
      "2    WELLNESS\n",
      "3    WELLNESS\n",
      "4    WELLNESS\n",
      "Name: category, dtype: object\n"
     ]
    }
   ],
   "source": [
    "X = df[\"short_description\"]\n",
    "y = df[\"category\"]\n",
    "print(X.head())\n",
    "print(y.head())"
   ]
  },
  {
   "cell_type": "markdown",
   "metadata": {},
   "source": [
    "## Split into Train/Test Data and Vectorize the Text with TfidfVectorizer\n",
    "\n",
    "We need to convert our text into vectors (meaningful representation of numbers) with a vectorizer, as our model can only deal with numbers, not alphabets. First, as with any machine learning task, we split our data into 2 groups of rows, the train and test sets using the train_test_split() function before vectorizing it.\n",
    "\n",
    "### Term Frequency Inverse Document Frequency\n",
    "\n",
    "Then we we use a **TfidfVectorizer**, Tfidf stands for 'Term Frequency Inverse Document Frequency'. Basically when this vectorizer is fitted on our data, it takes note of all terms/vocabulary (i.e. all the words and phrases involved) present in the text that we give it. (I have chosen to fit it with single words and also phrases of 2 words using the ngram_range = (1,2) parameter in the code below). It then converts each of the text (each row in the 'short_description' column) into a vector with corresponding numbers that account for the frequency of each of the terms involved. \n",
    "\n",
    "**'Term Frequency'** means the larger the number, the higher the frequency of the term in the text. \n",
    "\n",
    "Importantly, it factors in the **'Inverse Document Frequency'**. If the term appears many times in the text of a particular category, it might be a very common word (such as 'one', 'time', 'year' as seen earlier) which appears in many documents (i.e. many of the rows of text). Hence this term would not play an important role in identifying the category of text. By dividing each term's frequency by document frequency (i.e. the number of rows of text where it appears in), we can account for this and give a lesser weight to the common words. Feel free to read up more on TfidfVectorizer yourself.\n",
    "\n",
    "### Fit on Train Data, Transform both Train and Test Data\n",
    "\n",
    "The tfidf_vectorizer was uniquely fitted on *only* our training data to note all the terms involved, we then transform the training data into vectors which account for the frequency of this terms. This is done by the fit_transform() function below (two steps are involved here). We then use the same model to transform the test data into vectors. We do NOT fit it on the test data as the test data is meant to simulate user input of text for cateogry prediction, and the vectorizer is already fitted well before the user enters any input. Similarly, we will eventually need the tfidf_vectorizer in our Web App later to transform the phrases that we will type into the Web App into vectors, before using our trained model for prediction."
   ]
  },
  {
   "cell_type": "code",
   "execution_count": 23,
   "metadata": {},
   "outputs": [],
   "source": [
    "# Create training and test sets\n",
    "X_train, X_test, y_train, y_test = train_test_split(X, y, test_size=0.1, stratify = y)\n",
    "\n",
    "# Initialize a TfidfVectorizer object: tfidf_vectorizer\n",
    "tfidf_vectorizer = TfidfVectorizer(sublinear_tf=False, min_df=1, norm='l2', encoding='latin-1', ngram_range=(1,2), stop_words=stopwords)\n",
    "\n",
    "# Transform the training data: tfidf_train \n",
    "tfidf_train = tfidf_vectorizer.fit_transform(X_train)\n",
    "\n",
    "# Transform the test data: tfidf_test \n",
    "tfidf_test = tfidf_vectorizer.transform(X_test)"
   ]
  },
  {
   "cell_type": "code",
   "execution_count": 24,
   "metadata": {},
   "outputs": [
    {
     "data": {
      "text/plain": [
       "['être',\n",
       " 'être one',\n",
       " 'île',\n",
       " 'île de',\n",
       " 'övertorneå',\n",
       " 'övertorneå northern',\n",
       " 'öztürk',\n",
       " 'öztürk université',\n",
       " 'über',\n",
       " 'über cutie',\n",
       " 'über mom',\n",
       " 'übertalented',\n",
       " 'übertalented smith',\n",
       " 'łowicz',\n",
       " 'łowicz people',\n",
       " 'ﬁx',\n",
       " 'ﬁx world',\n",
       " 'ﬁx ﬁx',\n",
       " 'ﬂavors',\n",
       " 'ﬂavors texture']"
      ]
     },
     "execution_count": 24,
     "metadata": {},
     "output_type": "execute_result"
    }
   ],
   "source": [
    "# Print the last 20 features, notice that they are made up of single words and also phrases of 2 words\n",
    "features = tfidf_vectorizer.get_feature_names()[-20:]\n",
    "features.sort()\n",
    "features"
   ]
  },
  {
   "cell_type": "markdown",
   "metadata": {},
   "source": [
    "## Train and Fit LinearSVC Model\n",
    "\n",
    "The accuracy we get here is 70+%, not bad considering it was a very basic Linear Support Vector Classification model without any deep learning involved, and without any tuning of model hyperameters. Also we are only training on the 'short_description' of the news with some very basic pre-processing. Feel free to improve on the model by fine-tuning some of its parameters and do more advanced text pre-processing!"
   ]
  },
  {
   "cell_type": "code",
   "execution_count": 25,
   "metadata": {},
   "outputs": [
    {
     "name": "stdout",
     "output_type": "stream",
     "text": [
      "0.723\n"
     ]
    }
   ],
   "source": [
    "svc_classifier = LinearSVC()\n",
    "\n",
    "# Fit the classifier to the training data\n",
    "svc_classifier.fit(tfidf_train,y_train)\n",
    "\n",
    "# Create the predicted categories\n",
    "pred = svc_classifier.predict(tfidf_test)\n",
    "\n",
    "# Calculate the accuracy score: score\n",
    "score = metrics.accuracy_score(y_test, pred)\n",
    "print(score)"
   ]
  },
  {
   "cell_type": "markdown",
   "metadata": {},
   "source": [
    "## Test the Model with Some Text\n",
    "\n",
    "Here comes the fun part. Let's now test the model with some text! We create a function that takes in the text, vectorize it by using the transform() function of the tfidf_vectorizer that was fitted on our training data earlier, and use the svc_classifier model that was trained earlier to predict the news category and print it out."
   ]
  },
  {
   "cell_type": "code",
   "execution_count": 14,
   "metadata": {},
   "outputs": [],
   "source": [
    "def predict_topic(text):\n",
    "    result = svc_classifier.predict(tfidf_vectorizer.transform([text]))\n",
    "    return(result[0])"
   ]
  },
  {
   "cell_type": "markdown",
   "metadata": {},
   "source": [
    "As a reminder these are the categories involved."
   ]
  },
  {
   "cell_type": "code",
   "execution_count": 15,
   "metadata": {},
   "outputs": [
    {
     "data": {
      "text/plain": [
       "array(['WELLNESS', 'POLITICS', 'ENTERTAINMENT', 'TRAVEL',\n",
       "       'STYLE & BEAUTY', 'PARENTING', 'FOOD & DRINK', 'WORLD NEWS',\n",
       "       'BUSINESS', 'SPORTS'], dtype=object)"
      ]
     },
     "execution_count": 15,
     "metadata": {},
     "output_type": "execute_result"
    }
   ],
   "source": [
    "categories"
   ]
  },
  {
   "cell_type": "code",
   "execution_count": 16,
   "metadata": {},
   "outputs": [
    {
     "data": {
      "text/plain": [
       "'TRAVEL'"
      ]
     },
     "execution_count": 16,
     "metadata": {},
     "output_type": "execute_result"
    }
   ],
   "source": [
    "predict_topic(\"cycle around London\")"
   ]
  },
  {
   "cell_type": "code",
   "execution_count": 17,
   "metadata": {},
   "outputs": [
    {
     "data": {
      "text/plain": [
       "'SPORTS'"
      ]
     },
     "execution_count": 17,
     "metadata": {},
     "output_type": "execute_result"
    }
   ],
   "source": [
    "predict_topic(\"fans were cheering at the stadium\")"
   ]
  },
  {
   "cell_type": "code",
   "execution_count": 18,
   "metadata": {},
   "outputs": [
    {
     "data": {
      "text/plain": [
       "'SPORTS'"
      ]
     },
     "execution_count": 18,
     "metadata": {},
     "output_type": "execute_result"
    }
   ],
   "source": [
    "predict_topic(\"he scored a goal\")"
   ]
  },
  {
   "cell_type": "code",
   "execution_count": 19,
   "metadata": {},
   "outputs": [
    {
     "data": {
      "text/plain": [
       "'WELLNESS'"
      ]
     },
     "execution_count": 19,
     "metadata": {},
     "output_type": "execute_result"
    }
   ],
   "source": [
    "predict_topic(\"laughter is the best medicine\")"
   ]
  },
  {
   "cell_type": "code",
   "execution_count": 20,
   "metadata": {},
   "outputs": [
    {
     "data": {
      "text/plain": [
       "'FOOD & DRINK'"
      ]
     },
     "execution_count": 20,
     "metadata": {},
     "output_type": "execute_result"
    }
   ],
   "source": [
    "predict_topic(\"enjoying a burger with fries\")"
   ]
  },
  {
   "cell_type": "markdown",
   "metadata": {},
   "source": [
    "## Save the Model and Tfidf Vectorizer for Web App Usage Later\n",
    "\n",
    "### Pickle library in Python\n",
    "\n",
    "The pickle library in Python allows us to save Python objects into files in our local storage, using the pickle.dump() function. We can then load it into a Python object using another Python program using the pickle.load() function and use it just like how we have used it in this program for prediction.\n",
    "\n",
    "Our svc_classifier model has been fitted and trained earlier. Note that we are saving both this trained model (with filename 'classifier.pkl') AND the tfidf_vectorizer (with filename 'tfidf_vectorizer.pkl'). We will load this model and vectorizer in our Python program ('app.py' file) for our Flask Python Web App to use it for predictions in the app later.\n",
    "\n",
    "### Remember to save the tfidf_vectorizer object as well\n",
    "\n",
    "Why are we saving the tfidf_vectorizer as well? Remember that the tfidf_vectorizer was uniquely fitted on our training data and its feature_names was derived from the words and phrases in our training data. We then use it to transform the training data AND the testing data to vectorizer the text. (We did not fit it on our testing data because we were not supposed to, if you have forgotten, you can go back to the section above to read it again.) Similarly, we will need the tfidf_vectorizer in our Web App later to transform text that we will type into the Web App into vectors, before the svc_classifier works on it to predict the news category.\n",
    "\n",
    "### Save them to these filepaths\n",
    "\n",
    "The filepaths of the saved model and vectorizer below are 'news_category_classifier_webapp/model/classifier.pkl' and 'news_category_classifier_webapp/model/tfidf_vectorizer.pkl' If you are using this notebook from my entire GitHub Repo without changing any of the folder structure, you need not change the filepath for the Web App usage later."
   ]
  },
  {
   "cell_type": "code",
   "execution_count": 21,
   "metadata": {},
   "outputs": [],
   "source": [
    "with open('news_category_classifier_webapp/model/classifier.pkl', 'wb') as file:\n",
    "    pickle.dump(svc_classifier, file)\n",
    "    \n",
    "with open('news_category_classifier_webapp/model/tfidf_vectorizer.pkl', 'wb') as file:\n",
    "    pickle.dump(tfidf_vectorizer, file)"
   ]
  },
  {
   "cell_type": "code",
   "execution_count": 22,
   "metadata": {},
   "outputs": [],
   "source": []
  },
  {
   "cell_type": "code",
   "execution_count": null,
   "metadata": {},
   "outputs": [],
   "source": []
  }
 ],
 "metadata": {
  "kernelspec": {
   "display_name": "Python 3 (ipykernel)",
   "language": "python",
   "name": "python3"
  },
  "language_info": {
   "codemirror_mode": {
    "name": "ipython",
    "version": 3
   },
   "file_extension": ".py",
   "mimetype": "text/x-python",
   "name": "python",
   "nbconvert_exporter": "python",
   "pygments_lexer": "ipython3",
   "version": "3.9.7"
  }
 },
 "nbformat": 4,
 "nbformat_minor": 2
}
